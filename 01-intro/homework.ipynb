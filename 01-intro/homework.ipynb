{
 "cells": [
  {
   "cell_type": "code",
   "execution_count": 1,
   "id": "b75859e0-2b66-40d4-865f-b0b5f5703f41",
   "metadata": {},
   "outputs": [],
   "source": [
    "import openai"
   ]
  },
  {
   "cell_type": "code",
   "execution_count": 2,
   "id": "0637770f-c0f4-4682-925d-29fa0533d3b1",
   "metadata": {},
   "outputs": [],
   "source": [
    "from openai import OpenAI"
   ]
  },
  {
   "cell_type": "code",
   "execution_count": 6,
   "id": "4aab526b-4ed9-4197-aec3-d70b686d4429",
   "metadata": {},
   "outputs": [],
   "source": [
    "client = OpenAI()"
   ]
  },
  {
   "cell_type": "code",
   "execution_count": 7,
   "id": "9d560e72-8bb1-4fbf-b332-8104c9cf60b9",
   "metadata": {},
   "outputs": [],
   "source": [
    "import os"
   ]
  },
  {
   "cell_type": "code",
   "execution_count": 8,
   "id": "2615954d-197a-4ccf-b2e4-b334f66d2003",
   "metadata": {},
   "outputs": []
     },
     "execution_count": 8,
     "metadata": {},
     "output_type": "execute_result"
    }
   ],
   "source": [
    "os.environ"
   ]
  },
  {
   "cell_type": "code",
   "execution_count": 14,
   "id": "7c8beb2b-a029-44b6-9db6-969e16c61073",
   "metadata": {},
   "outputs": [],
   "source": [
    "response = client.chat.completions.create(\n",
    "    model='gpt-4o',\n",
    "    messages=[{\"role\": \"user\", \"content\": \"is it too late to join the course?\"}]\n",
    ")"
   ]
  },
  {
   "cell_type": "code",
   "execution_count": 15,
   "id": "b4bdb0fe-3e41-47e1-aac4-297effd93e38",
   "metadata": {},
   "outputs": [
    {
     "data": {
      "text/plain": [
       "'Whether it is too late to join a course depends on a few factors:\\n\\n1. **Course Enrollment Period**: Check the specific enrollment dates. Many courses have set registration periods, and enrolling late might not be allowed or might limit access to necessary resources.\\n\\n2. **Course Start Date**: If the course has just started, some institutions may still allow late enrollments within a certain grace period. You might need to catch up on missed material.\\n\\n3. **Instructor Policies**: Sometimes, instructors have the discretion to allow late enrollments. Contacting the course instructor directly can provide clarity.\\n\\n4. **Type of Course**: For self-paced online courses, joining late is often not an issue. For more structured, synchronous courses (e.g., traditional semester-based classes), it might be more difficult.\\n\\n5. **Institutional Rules**: Different institutions have different policies regarding late enrollments. Checking with the registrar or the admissions office can provide more information.\\n\\nIf you’re interested in joining a course that has already started, it’s a good idea to reach out to the relevant parties (e.g., course instructor, academic advisor, or admissions office) as soon as possible to discuss your options.'"
      ]
     },
     "execution_count": 15,
     "metadata": {},
     "output_type": "execute_result"
    }
   ],
   "source": [
    "response.choices[0].message.content"
   ]
  },
  {
   "cell_type": "code",
   "execution_count": null,
   "id": "691200e9-c119-4202-b6dd-93928f6b38f1",
   "metadata": {},
   "outputs": [],
   "source": []
  }
 ],
 "metadata": {
  "kernelspec": {
   "display_name": "Python 3 (ipykernel)",
   "language": "python",
   "name": "python3"
  },
  "language_info": {
   "codemirror_mode": {
    "name": "ipython",
    "version": 3
   },
   "file_extension": ".py",
   "mimetype": "text/x-python",
   "name": "python",
   "nbconvert_exporter": "python",
   "pygments_lexer": "ipython3",
   "version": "3.10.13"
  }
 },
 "nbformat": 4,
 "nbformat_minor": 5
}
